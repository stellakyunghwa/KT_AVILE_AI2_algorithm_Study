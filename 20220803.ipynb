{
 "cells": [
  {
   "cell_type": "markdown",
   "id": "3136ab0a",
   "metadata": {},
   "source": [
    "### 유효한 팰린드롬"
   ]
  },
  {
   "cell_type": "code",
   "execution_count": 49,
   "id": "31837cf8",
   "metadata": {},
   "outputs": [],
   "source": [
    "import re\n",
    "\n",
    "def isPalindrome(string):\n",
    "    #string = string.replace(\" \", \"\")\n",
    "    string = re.sub('[^a-zA-Z]', '', string).lower()\n",
    "    str_len = len(string)\n",
    "    string = string.replace(\"[^a-zA-Z]\", \"\") # 정규표현식\n",
    "    left = string[:str_len//2]\n",
    "    \n",
    "    right = \"\"\n",
    "    for i in range(len(left)):\n",
    "        right += string[len(string)-i-1]\n",
    "    if left == right:\n",
    "        return True\n",
    "    else:\n",
    "        return False"
   ]
  },
  {
   "cell_type": "code",
   "execution_count": 61,
   "id": "f283b56a",
   "metadata": {},
   "outputs": [],
   "source": [
    "import re\n",
    "import collections\n",
    "\n",
    "def is_pal(string):\n",
    "    string = re.sub('[^a-zA-Z]', '', string).lower()\n",
    "    string = collections.deque(string)\n",
    "    \n",
    "    while len(string) > 1:\n",
    "        if string.popleft() != string.pop():\n",
    "            return False\n",
    "    return True\n",
    "    "
   ]
  },
  {
   "cell_type": "code",
   "execution_count": 63,
   "id": "8a97f7dd",
   "metadata": {},
   "outputs": [
    {
     "data": {
      "text/plain": [
       "True"
      ]
     },
     "execution_count": 63,
     "metadata": {},
     "output_type": "execute_result"
    }
   ],
   "source": [
    "string = \"A man, a plan, a canal : panama\"\n",
    "is_pal(string)"
   ]
  },
  {
   "cell_type": "markdown",
   "id": "f639902d",
   "metadata": {},
   "source": [
    "### 문자열 뒤집기"
   ]
  },
  {
   "cell_type": "code",
   "execution_count": 1,
   "id": "db690c5c",
   "metadata": {},
   "outputs": [],
   "source": [
    "from collections import deque\n",
    "def reverse(lst):\n",
    "    reverse_s =[]\n",
    "    for i in range(len(lst)):\n",
    "        reverse_s.append(lst.pop())\n",
    "    return reverse_s"
   ]
  },
  {
   "cell_type": "code",
   "execution_count": 2,
   "id": "daa19983",
   "metadata": {},
   "outputs": [
    {
     "name": "stdout",
     "output_type": "stream",
     "text": [
      "Wall time: 0 ns\n"
     ]
    },
    {
     "data": {
      "text/plain": [
       "[5, 4, 3, 2, 1]"
      ]
     },
     "execution_count": 2,
     "metadata": {},
     "output_type": "execute_result"
    }
   ],
   "source": [
    "%%time\n",
    "s = [1,2,3,4,5]\n",
    "reverse(s)"
   ]
  },
  {
   "cell_type": "code",
   "execution_count": null,
   "id": "78f72668",
   "metadata": {},
   "outputs": [],
   "source": []
  }
 ],
 "metadata": {
  "kernelspec": {
   "display_name": "Python 3",
   "language": "python",
   "name": "python3"
  },
  "language_info": {
   "codemirror_mode": {
    "name": "ipython",
    "version": 3
   },
   "file_extension": ".py",
   "mimetype": "text/x-python",
   "name": "python",
   "nbconvert_exporter": "python",
   "pygments_lexer": "ipython3",
   "version": "3.8.8"
  }
 },
 "nbformat": 4,
 "nbformat_minor": 5
}
